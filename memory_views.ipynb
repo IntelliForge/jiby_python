{
 "cells": [
  {
   "cell_type": "markdown",
   "metadata": {},
   "source": [
    "1. Write a Python program that creates a memory view on a bytes object and prints the length and first 8 bytes."
   ]
  },
  {
   "cell_type": "code",
   "execution_count": 1,
   "metadata": {},
   "outputs": [
    {
     "name": "stdout",
     "output_type": "stream",
     "text": [
      "Memory View Length: 17\n",
      "First 8 Bytes: <memory at 0x00000297A2D03700>\n"
     ]
    }
   ],
   "source": [
    "data = b\"Python Exercises!\"\n",
    "# Create memory view on data\n",
    "mem_data  = memoryview(data)        \n",
    "print(\"Memory View Length:\", len(mem_data))\n",
    "# Print first 8 bytes\n",
    "print(\"First 8 Bytes:\", mem_data[:8])"
   ]
  },
  {
   "cell_type": "markdown",
   "metadata": {},
   "source": [
    "2. Write a Python function that takes a memory view and converts it to a bytes object."
   ]
  },
  {
   "cell_type": "code",
   "execution_count": 1,
   "metadata": {},
   "outputs": [
    {
     "name": "stdout",
     "output_type": "stream",
     "text": [
      "Memory views:  <memory at 0x0000025FA00137C0>\n",
      "Bytes Object: b'Python Exercises!'\n"
     ]
    }
   ],
   "source": [
    "def memoryview_to_bytes(mem_view):\n",
    "    try:\n",
    "        # Convert memory view to bytes using bytes()\n",
    "        bytes_data = bytes(mem_view)\n",
    "        return bytes_data\n",
    "    except Exception as e:\n",
    "        print(\"An error occurred:\", e)\n",
    "        return None\n",
    "\n",
    "def main():\n",
    "    try:\n",
    "        data = b\"Python Exercises!\"\n",
    "        mem_view = memoryview(data)\n",
    "        print(\"Memory views: \",mem_view)\n",
    "        # Convert memory view to bytes\n",
    "        bytes_data = memoryview_to_bytes(mem_view)\n",
    "        \n",
    "        if bytes_data is not None:\n",
    "            print(\"Bytes Object:\", bytes_data)\n",
    "    except Exception as e:\n",
    "        print(\"An error occurred:\", e)\n",
    "\n",
    "if __name__ == \"__main__\":\n",
    "    main()\n"
   ]
  },
  {
   "cell_type": "markdown",
   "metadata": {},
   "source": [
    "3. Write a  Python program that creates a 1-dimensional and 3-dimensional memory view from a NumPy array."
   ]
  },
  {
   "cell_type": "code",
   "execution_count": 2,
   "metadata": {},
   "outputs": [
    {
     "name": "stdout",
     "output_type": "stream",
     "text": [
      "Memory views:\n",
      "<memory at 0x0000025FBE453100>\n",
      "<memory at 0x0000025F9EE2F790>\n",
      "\n",
      "1-D Memory View:\n",
      "[1, 2, 3, 4, 5, 6]\n",
      "\n",
      "3-D Memory View:\n",
      "[[[1, 2, 3], [4, 5, 6]], [[7, 8, 9], [10, 11, 12]]]\n"
     ]
    }
   ],
   "source": [
    "import numpy as np\n",
    "\n",
    "def main():\n",
    "    try:\n",
    "        # Create a NumPy array\n",
    "        array_1_d = np.array([1, 2, 3, 4, 5, 6])\n",
    "        array_3_d = np.array([[[1, 2, 3], [4, 5, 6]], [[7, 8, 9], [10, 11, 12]]])\n",
    "        \n",
    "        # Create memory views from the NumPy arrays\n",
    "        print(\"Memory views:\")\n",
    "        mem_view_1_d = memoryview(array_1_d)\n",
    "        print(mem_view_1_d)\n",
    "        mem_view_3_d = memoryview(array_3_d)\n",
    "        print(mem_view_3_d)\n",
    "        \n",
    "        # Print the memory views\n",
    "        print(\"\\n1-D Memory View:\")\n",
    "        print(mem_view_1_d.tolist())\n",
    "        \n",
    "        print(\"\\n3-D Memory View:\")\n",
    "        print(mem_view_3_d.tolist())\n",
    "    except Exception as e:\n",
    "        print(\"An error occurred:\", e)\n",
    "\n",
    "if __name__ == \"__main__\":\n",
    "    main()\n"
   ]
  },
  {
   "cell_type": "markdown",
   "metadata": {},
   "source": [
    "4. Write a Python program that creates a memory view from a NumPy array and calculates the average of its elements."
   ]
  },
  {
   "cell_type": "code",
   "execution_count": 3,
   "metadata": {},
   "outputs": [
    {
     "name": "stdout",
     "output_type": "stream",
     "text": [
      "Memory views:\n",
      "<memory at 0x0000025FBE453280>\n",
      "<memory at 0x0000025F9EE2F790>\n",
      "\n",
      "1-D Memory View:\n",
      "[1, 2, 3, 4, 5, 6]\n",
      "\n",
      "3-D Memory View:\n",
      "[[[1, 2, 3], [4, 5, 6]], [[7, 8, 9], [10, 11, 12]]]\n"
     ]
    }
   ],
   "source": [
    "import numpy as np\n",
    "\n",
    "def main():\n",
    "    try:\n",
    "        # Create a NumPy array\n",
    "        array_1_d = np.array([1, 2, 3, 4, 5, 6])\n",
    "        array_3_d = np.array([[[1, 2, 3], [4, 5, 6]], [[7, 8, 9], [10, 11, 12]]])\n",
    "        \n",
    "        # Create memory views from the NumPy arrays\n",
    "        print(\"Memory views:\")\n",
    "        mem_view_1_d = memoryview(array_1_d)\n",
    "        print(mem_view_1_d)\n",
    "        mem_view_3_d = memoryview(array_3_d)\n",
    "        print(mem_view_3_d)\n",
    "        \n",
    "        # Print the memory views\n",
    "        print(\"\\n1-D Memory View:\")\n",
    "        print(mem_view_1_d.tolist())\n",
    "        \n",
    "        print(\"\\n3-D Memory View:\")\n",
    "        print(mem_view_3_d.tolist())\n",
    "    except Exception as e:\n",
    "        print(\"An error occurred:\", e)\n",
    "\n",
    "if __name__ == \"__main__\":\n",
    "    main()\n"
   ]
  },
  {
   "cell_type": "markdown",
   "metadata": {},
   "source": [
    "5.  Write a Python function that takes two memory views and concatenates them. Print the concatenated memory view."
   ]
  },
  {
   "cell_type": "code",
   "execution_count": 5,
   "metadata": {},
   "outputs": [
    {
     "name": "stdout",
     "output_type": "stream",
     "text": [
      "Memory views:\n",
      "<memory at 0x0000025FBEBB9D80>\n",
      "<memory at 0x0000025FBEBB9E40>\n",
      "Concatenated Memory View: Python Exercises!\n"
     ]
    }
   ],
   "source": [
    "def concatenate_memory_views(mem_view1, mem_view2):\n",
    "    result = bytearray(mem_view1) + bytearray(mem_view2)\n",
    "    return memoryview(result)\n",
    "\n",
    "def main():\n",
    "    data1 = bytearray(b\"Python \")\n",
    "    data2 = bytearray(b\"Exercises!\")\n",
    "    print(\"Memory views:\")\n",
    "    memory_view1 = memoryview(data1)\n",
    "    print(memory_view1)\n",
    "    memory_view2 = memoryview(data2)\n",
    "    print(memory_view2)\n",
    "    concatenated_view = concatenate_memory_views(memory_view1, memory_view2)\n",
    "    print(\"Concatenated Memory View:\", concatenated_view.tobytes().decode(\"utf-8\"))\n",
    "if __name__ == \"__main__\":\n",
    "    main()\n"
   ]
  },
  {
   "cell_type": "markdown",
   "metadata": {},
   "source": [
    "6. Write a Python program that iterates over a memory view and increment each element by 10 using a loop."
   ]
  },
  {
   "cell_type": "code",
   "execution_count": 6,
   "metadata": {},
   "outputs": [
    {
     "name": "stdout",
     "output_type": "stream",
     "text": [
      "Original Memory View: [100, 200, 150, 200, 50]\n",
      "Modified Memory View: [110, 210, 160, 210, 60]\n"
     ]
    }
   ],
   "source": [
    "def test(memory_view):\n",
    "    for i in range(len(memory_view)):\n",
    "        memory_view[i] = (memory_view[i] + 10) % 256\n",
    "def main():\n",
    "    data = bytearray([100, 200, 150, 200, 50])\n",
    "    memory_view = memoryview(data)\n",
    "    print(\"Original Memory View:\", memory_view.tolist())\n",
    "    test(memory_view)\n",
    "    print(\"Modified Memory View:\", memory_view.tolist())\n",
    "if __name__ == \"__main__\":\n",
    "    main()\n"
   ]
  },
  {
   "cell_type": "markdown",
   "metadata": {},
   "source": [
    "7. Write a Python program that creates a memory view from a bytearray, reverses the order using slicing, and converts back to a bytearray."
   ]
  },
  {
   "cell_type": "code",
   "execution_count": 7,
   "metadata": {},
   "outputs": [
    {
     "name": "stdout",
     "output_type": "stream",
     "text": [
      "Original Data: bytearray(b'\\n\\x14\\x1e(2')\n",
      "Original Memory View: [10, 20, 30, 40, 50]\n",
      "Reversed Bytearray: bytearray(b'2(\\x1e\\x14\\n')\n"
     ]
    }
   ],
   "source": [
    "def test(memory_view):\n",
    "    reversed_memory_view = memory_view[::-1]\n",
    "    return bytearray(reversed_memory_view)\n",
    "\n",
    "def main():\n",
    "    original_data = bytearray([10, 20, 30, 40, 50])\n",
    "    original_memory_view = memoryview(original_data)\n",
    "    print(\"Original Data:\", original_data)\n",
    "    print(\"Original Memory View:\", original_memory_view.tolist())\n",
    "    reversed_bytearray = test(original_memory_view)\n",
    "    print(\"Reversed Bytearray:\", reversed_bytearray)\n",
    "if __name__ == \"__main__\":\n",
    "    main()\n"
   ]
  },
  {
   "cell_type": "markdown",
   "metadata": {},
   "source": [
    "8. Write a Python program that takes a slice of a memory view using indexing syntax and prints the slice."
   ]
  },
  {
   "cell_type": "code",
   "execution_count": 8,
   "metadata": {},
   "outputs": [
    {
     "name": "stdout",
     "output_type": "stream",
     "text": [
      "Original Data: bytearray(b'\\x01\\x02\\x03\\x04\\x05\\x06\\x07\\x08\\t\\n')\n",
      "Sliced Memory View:\n",
      "bytearray(b'\\x04\\x05\\x06\\x07\\x08')\n",
      "[4, 5, 6, 7, 8]\n"
     ]
    }
   ],
   "source": [
    "def main():\n",
    "    original_data = bytearray([1, 2, 3, 4, 5, 6, 7, 8, 9, 10])\n",
    "\n",
    "    memory_view = memoryview(original_data)\n",
    "\n",
    "    # Taking a slice of the memory view\n",
    "    start_index = 3\n",
    "    end_index = 8\n",
    "    sliced_memory_view = memory_view[start_index:end_index]\n",
    "\n",
    "    print(\"Original Data:\", original_data)\n",
    "    print(\"Sliced Memory View:\")\n",
    "    print(bytearray(sliced_memory_view))\n",
    "    print(sliced_memory_view.tolist())\n",
    "\n",
    "if __name__ == \"__main__\":\n",
    "    main()\n"
   ]
  },
  {
   "cell_type": "markdown",
   "metadata": {},
   "source": [
    "9. Write a Python program that creates a memory view from a list of integers and print the hex values of each element."
   ]
  },
  {
   "cell_type": "code",
   "execution_count": 9,
   "metadata": {},
   "outputs": [
    {
     "name": "stdout",
     "output_type": "stream",
     "text": [
      "Original list values: [8, 16, 42, 92, 128]\n",
      "Hex Values of said list elements:\n",
      "0x8\n",
      "0x10\n",
      "0x2a\n",
      "0x5c\n",
      "0x80\n"
     ]
    }
   ],
   "source": [
    "def test(memory_view):\n",
    "    for element in memory_view:\n",
    "        print(hex(element))\n",
    "\n",
    "def main():\n",
    "    nums = [8, 16, 42, 92, 128]\n",
    "    print(\"Original list values:\",nums)\n",
    "\n",
    "    # Create a memory view from the list of integers\n",
    "    memory_view = memoryview(bytearray(nums))\n",
    "\n",
    "    print(\"Hex Values of said list elements:\")\n",
    "    test(memory_view)\n",
    "\n",
    "if __name__ == \"__main__\":\n",
    "    main()\n"
   ]
  }
 ],
 "metadata": {
  "kernelspec": {
   "display_name": "dblearn",
   "language": "python",
   "name": "python3"
  },
  "language_info": {
   "codemirror_mode": {
    "name": "ipython",
    "version": 3
   },
   "file_extension": ".py",
   "mimetype": "text/x-python",
   "name": "python",
   "nbconvert_exporter": "python",
   "pygments_lexer": "ipython3",
   "version": "3.12.1"
  }
 },
 "nbformat": 4,
 "nbformat_minor": 2
}
