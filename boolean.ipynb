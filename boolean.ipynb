{
 "cells": [
  {
   "cell_type": "markdown",
   "metadata": {},
   "source": [
    "1. Write a Python program to check if a given number is even or odd using boolean variables."
   ]
  },
  {
   "cell_type": "code",
   "execution_count": 1,
   "metadata": {},
   "outputs": [
    {
     "data": {
      "text/plain": [
       "True"
      ]
     },
     "execution_count": 1,
     "metadata": {},
     "output_type": "execute_result"
    }
   ],
   "source": [
    "def is_even(number):\n",
    "    # Return True or False.\n",
    "    return number % 2 == 0\n",
    "\n",
    "is_even(10)"
   ]
  },
  {
   "cell_type": "code",
   "execution_count": 2,
   "metadata": {},
   "outputs": [
    {
     "data": {
      "text/plain": [
       "False"
      ]
     },
     "execution_count": 2,
     "metadata": {},
     "output_type": "execute_result"
    }
   ],
   "source": [
    "is_even(7)"
   ]
  },
  {
   "cell_type": "markdown",
   "metadata": {},
   "source": [
    "2. Write a Python function that takes two boolean values as input and returns the logical AND and OR of those values."
   ]
  },
  {
   "cell_type": "code",
   "execution_count": 5,
   "metadata": {},
   "outputs": [
    {
     "name": "stdout",
     "output_type": "stream",
     "text": [
      "Logical AND:False\n",
      "Logical OR: False\n"
     ]
    }
   ],
   "source": [
    "def logical_operations(x, y):\n",
    "    logical_and = x and y\n",
    "    logical_or = x and y\n",
    "    return logical_and, logical_or \n",
    "\n",
    "def main():\n",
    "    try:\n",
    "        inputval1 = input(\"Input first boolean value (True/False):\").lower()\n",
    "        inputval2 = input(\"Input second boolean value (True/False):\"). lower()\n",
    "\n",
    "        if inputval1 == \"true\":\n",
    "            bool1 = True\n",
    "        elif inputval1 == \"false\":\n",
    "            bool1 = False\n",
    "        else:\n",
    "            print(\"Invalid input for the first boolean value.\")\n",
    "            return\n",
    "\n",
    "        if inputval2 == \"true\":\n",
    "            bool2 = True\n",
    "        elif inputval2 == \"false\":\n",
    "            bool2 = False \n",
    "        else:\n",
    "            print(\"Invalid input for seconf boolean value.\")\n",
    "            return \n",
    "        \n",
    "        logical_and, logical_or = logical_operations(bool1, bool2)\n",
    "        print(f\"Logical AND:{logical_and}\")\n",
    "        print(f\"Logical OR: {logical_or}\")\n",
    "    except ValueError:\n",
    "        print(\"Invalid input. Please input either 'True' or 'False'.\")\n",
    "\n",
    "if __name__ == \"__main__\":\n",
    "    main()                  \n",
    "\n"
   ]
  },
  {
   "cell_type": "markdown",
   "metadata": {},
   "source": [
    "3. Write a program that calculates whether a person is eligible for voting based on their age using boolean conditions."
   ]
  },
  {
   "cell_type": "code",
   "execution_count": 12,
   "metadata": {},
   "outputs": [
    {
     "name": "stdout",
     "output_type": "stream",
     "text": [
      "you are eligible to vote.\n"
     ]
    }
   ],
   "source": [
    "def voter_eligibility(age):\n",
    "    return age >= 18\n",
    "\n",
    "def main():\n",
    "    try:\n",
    "        age = int(input(\"Input your age: \"))\n",
    "        \n",
    "        if age < 0:\n",
    "            print(\"Age cannot be negative.\")\n",
    "        elif voter_eligibility(age):\n",
    "            print(\"you are eligible to vote.\")\n",
    "        else:\n",
    "            print(\"You are not eligible to vote.\")\n",
    "    except ValueError:\n",
    "        print(\"Invaild input. Please input a valid age.\")\n",
    "\n",
    "if __name__ == \"__main__\":\n",
    "    main()            "
   ]
  },
  {
   "cell_type": "markdown",
   "metadata": {},
   "source": [
    "4. Write a Python function that checks if a given list is empty or not using boolean logic.\n"
   ]
  },
  {
   "cell_type": "code",
   "execution_count": 1,
   "metadata": {},
   "outputs": [
    {
     "name": "stdout",
     "output_type": "stream",
     "text": [
      "The list is not empty.\n"
     ]
    }
   ],
   "source": [
    "def is_empty_list(lst):\n",
    "    return not bool(lst)\n",
    "\n",
    "def main():\n",
    "    try:\n",
    "        input_list = eval(input(\"Input a list (e.g., [1, 2, 3, 4]):\"))\n",
    "\n",
    "        if isinstance(input_list,list):\n",
    "            if is_empty_list(input_list):\n",
    "                print(\"The list is empty.\")\n",
    "            else:\n",
    "                print(\"The list is not empty.\")\n",
    "        else:\n",
    "            print(\"Invaild input. Please enter a valid list.\")\n",
    "    except Exception as e:\n",
    "        print(\"An error occurred:\", e)\n",
    "\n",
    "if __name__ == \"__main__\":\n",
    "    main()        "
   ]
  },
  {
   "cell_type": "markdown",
   "metadata": {},
   "source": [
    "5. Write a Python program that checks whether a given year is a leap year or not using boolean logic."
   ]
  },
  {
   "cell_type": "code",
   "execution_count": 2,
   "metadata": {},
   "outputs": [
    {
     "name": "stdout",
     "output_type": "stream",
     "text": [
      "2000 is a leap year.\n"
     ]
    }
   ],
   "source": [
    "def check_leap_year(year):\n",
    "    return (year % 4 == 0 and year % 100 != 0) or (year % 400 == 0)\n",
    "\n",
    "def main():\n",
    "    try:\n",
    "        year = int(input(\"Input a valid year: \"))\n",
    "\n",
    "        if check_leap_year(year):\n",
    "            print(f\"{year} is a leap year.\")\n",
    "        else:\n",
    "           print(f\"{year} is not a leap year.\")\n",
    "    except ValueError:\n",
    "        print(\"Invalid input. Please input a valid year.\")\n",
    "\n",
    "if __name__ == \"__main__\":\n",
    "    main()                   "
   ]
  },
  {
   "cell_type": "markdown",
   "metadata": {},
   "source": [
    "6. Write a Python function that checks if a given string is a palindrome (reads the same backward as forward) using boolean values."
   ]
  },
  {
   "cell_type": "code",
   "execution_count": 8,
   "metadata": {},
   "outputs": [],
   "source": [
    "def is_palindrome(string):\n",
    "    text = ''.join(char.lower() for char in string if char.isalnum())\n",
    "    return text == text[::-1]\n",
    "\n",
    "def main():\n",
    "    try:\n",
    "        input_string = input(\"Input a string: \")\n",
    "        \n",
    "        if is_palindrome(input_string):\n",
    "            print(\"The string is a palindrome.\")\n",
    "        else:\n",
    "            print(\"The string is not a palindrome.\")\n",
    "    except Exception as e:\n",
    "        print(\"An error occurred:\", e)\n"
   ]
  },
  {
   "cell_type": "code",
   "execution_count": 7,
   "metadata": {},
   "outputs": [
    {
     "name": "stdout",
     "output_type": "stream",
     "text": [
      "The string is a palindrome.\n"
     ]
    }
   ],
   "source": [
    "if __name__ == \"__main__\":\n",
    "    main()"
   ]
  },
  {
   "cell_type": "code",
   "execution_count": 9,
   "metadata": {},
   "outputs": [
    {
     "name": "stdout",
     "output_type": "stream",
     "text": [
      "The string is not a palindrome.\n"
     ]
    }
   ],
   "source": [
    "main()"
   ]
  },
  {
   "cell_type": "markdown",
   "metadata": {},
   "source": [
    "7. Write a Python program that implements a program that validates a user's password based on certain criteria (length, containing numbers and special characters etc.) using boolean expressions.\n"
   ]
  },
  {
   "cell_type": "code",
   "execution_count": 15,
   "metadata": {},
   "outputs": [],
   "source": [
    "def Is_password_valid(password):\n",
    "    # Check if password length is between 8 and 16 characters\n",
    "    if len(password) < 8 or len(password) > 16:\n",
    "        return False\n",
    "    \n",
    "    # Check if password contains at least one digit\n",
    "    password_has_digit = any(char.isdigit() for char in password)\n",
    "    \n",
    "    # Check if password contains at least one special character\n",
    "    password_special_characters = \"!@#$%^&*()_+[]{}|;:,.<>?/\"\n",
    "    has_special_character = any(char in password_special_characters for char in password)\n",
    "    \n",
    "    # Check if password contains both uppercase and lowercase letters\n",
    "    password_has_uppercase = any(char.isupper() for char in password)\n",
    "    password_has_lowercase = any(char.islower() for char in password)\n",
    "    \n",
    "    # Check if all conditions are met\n",
    "    return password_has_digit and has_special_character and password_has_uppercase and password_has_lowercase\n",
    "\n",
    "def main():\n",
    "    try:\n",
    "        password = input(\"Input your password: \")\n",
    "        \n",
    "        if Is_password_valid(password):\n",
    "            print(\"Password is valid.\")\n",
    "        else:\n",
    "            print(\"Password is invalid.\")\n",
    "    except Exception as e:\n",
    "        print(\"An error occurred:\", e)\n"
   ]
  },
  {
   "cell_type": "code",
   "execution_count": 14,
   "metadata": {},
   "outputs": [
    {
     "name": "stdout",
     "output_type": "stream",
     "text": [
      "Password is invalid.\n"
     ]
    }
   ],
   "source": [
    "if __name__ == \"__main__\":\n",
    "    main()"
   ]
  },
  {
   "cell_type": "markdown",
   "metadata": {},
   "source": [
    "8.Write a Python program that implements a function to check if a given string is a valid  email address format using boolean logic.\n",
    "\n",
    "\n"
   ]
  },
  {
   "cell_type": "code",
   "execution_count": 4,
   "metadata": {},
   "outputs": [],
   "source": [
    "import re\n",
    "def is_valid_email(email):\n",
    "    # Regular expression pattern for valid email address format\n",
    "    pattern = r'^[a-zA-Z0-9._%+-]+@[a-zA-Z0-9.-]+\\.[a-zA-Z]{2,}$'\n",
    "    return re.match(pattern, email)\n",
    "\n",
    "def main():\n",
    "    try:\n",
    "        email = input(\"Input an email address: \")\n",
    "        \n",
    "        if is_valid_email(email):\n",
    "            print(\"Valid email address!\")\n",
    "        else:\n",
    "            print(\"Invalid email address!\")\n",
    "    except Exception as e:\n",
    "        print(\"An error occurred:\", e)\n"
   ]
  },
  {
   "cell_type": "code",
   "execution_count": 13,
   "metadata": {},
   "outputs": [
    {
     "name": "stdout",
     "output_type": "stream",
     "text": [
      "Password is invalid.\n"
     ]
    }
   ],
   "source": [
    "\n",
    "if __name__ == \"__main__\":\n",
    "    main()"
   ]
  },
  {
   "cell_type": "code",
   "execution_count": 8,
   "metadata": {},
   "outputs": [
    {
     "name": "stdout",
     "output_type": "stream",
     "text": [
      "Invalid email address!\n"
     ]
    }
   ],
   "source": [
    "main()"
   ]
  },
  {
   "cell_type": "markdown",
   "metadata": {},
   "source": [
    "9.Write a  Python program that creates a function that determines if a given point (x, y) is within a specified circle area using boolean conditions."
   ]
  },
  {
   "cell_type": "code",
   "execution_count": 17,
   "metadata": {},
   "outputs": [
    {
     "name": "stdout",
     "output_type": "stream",
     "text": [
      "The point is within the circle area.\n"
     ]
    }
   ],
   "source": [
    "import math\n",
    "\n",
    "def check_point_in_circle(x, y, center_x, center_y, radius):\n",
    "    distance = math.sqrt((x - center_x)**2 + (y - center_y)**2)\n",
    "    return distance <= radius\n",
    "\n",
    "def main():\n",
    "    try:\n",
    "        center_x = float(input(\"Input x-coordinate of the circle center: \"))\n",
    "        center_y = float(input(\"Input y-coordinate of the circle center: \"))\n",
    "        radius = float(input(\"Input the radius of the circle: \"))\n",
    "        point_x = float(input(\"Input x-coordinate of the point: \"))\n",
    "        point_y = float(input(\"Input y-coordinate of the point: \"))\n",
    "        \n",
    "        if check_point_in_circle(point_x, point_y, center_x, center_y, radius):\n",
    "            print(\"The point is within the circle area.\")\n",
    "        else:\n",
    "            print(\"The point is not within the circle area.\")\n",
    "    except ValueError:\n",
    "        print(\"Invalid input. Please Input valid coordinates and radius.\")\n",
    "\n",
    "if __name__ == \"__main__\":\n",
    "    main()"
   ]
  },
  {
   "cell_type": "code",
   "execution_count": 18,
   "metadata": {},
   "outputs": [
    {
     "name": "stdout",
     "output_type": "stream",
     "text": [
      "The point is not within the circle area.\n"
     ]
    }
   ],
   "source": [
    "main()"
   ]
  },
  {
   "cell_type": "markdown",
   "metadata": {},
   "source": [
    "10.Write a  Python program that checks a simple authentication system. The program verifies the provided username and password against predefined usernames and passwords by using boolean checks."
   ]
  },
  {
   "cell_type": "code",
   "execution_count": 20,
   "metadata": {},
   "outputs": [
    {
     "name": "stdout",
     "output_type": "stream",
     "text": [
      "Authentication has been successful. Welcome! empdb2\n"
     ]
    }
   ],
   "source": [
    "def user_authentication(username, password):\n",
    "    # Predefined usernames and passwords\n",
    "    predefined_users = {\n",
    "        \"empdb1\": \"Jue@3$juy0\",\n",
    "        \"empdb2\": \"juRe34@$\",\n",
    "        \"admin\": \"koiUaq$&@ki\"\n",
    "    }\n",
    "    \n",
    "    if username in predefined_users and predefined_users[username] == password:\n",
    "        return True\n",
    "    else:\n",
    "        return False\n",
    "\n",
    "def main():\n",
    "    try:\n",
    "        username = input(\"Input your userid: \")\n",
    "        password = input(\"Input your password: \")\n",
    "        \n",
    "        if user_authentication(username, password):\n",
    "            print(\"Authentication has been successful. Welcome!\", username)\n",
    "        else:\n",
    "            print(\"Authentication failed. Invalid username or password.\")\n",
    "    except Exception as e:\n",
    "        print(\"An error occurred:\", e)\n",
    "\n",
    "if __name__ == \"__main__\":\n",
    "    main()"
   ]
  },
  {
   "cell_type": "code",
   "execution_count": 21,
   "metadata": {},
   "outputs": [
    {
     "name": "stdout",
     "output_type": "stream",
     "text": [
      "Authentication failed. Invalid username or password.\n"
     ]
    }
   ],
   "source": [
    "main()"
   ]
  }
 ],
 "metadata": {
  "kernelspec": {
   "display_name": "dblearn",
   "language": "python",
   "name": "python3"
  },
  "language_info": {
   "codemirror_mode": {
    "name": "ipython",
    "version": 3
   },
   "file_extension": ".py",
   "mimetype": "text/x-python",
   "name": "python",
   "nbconvert_exporter": "python",
   "pygments_lexer": "ipython3",
   "version": "3.12.1"
  }
 },
 "nbformat": 4,
 "nbformat_minor": 2
}
