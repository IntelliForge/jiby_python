{
 "cells": [
  {
   "cell_type": "markdown",
   "metadata": {},
   "source": [
    "1.Write a Python function that takes a string as input and returns \"None\" if the string is empty, otherwise it returns the given string."
   ]
  },
  {
   "cell_type": "code",
   "execution_count": 7,
   "metadata": {},
   "outputs": [],
   "source": [
    "def check_string(input_string):\n",
    "    if type(input_string)==str and len(input_string) > 0:\n",
    "        return input_string\n",
    "    else:\n",
    "        return \"None\""
   ]
  },
  {
   "cell_type": "code",
   "execution_count": 8,
   "metadata": {},
   "outputs": [
    {
     "data": {
      "text/plain": [
       "'10'"
      ]
     },
     "execution_count": 8,
     "metadata": {},
     "output_type": "execute_result"
    }
   ],
   "source": [
    "check_string('10')"
   ]
  },
  {
   "cell_type": "code",
   "execution_count": 9,
   "metadata": {},
   "outputs": [
    {
     "data": {
      "text/plain": [
       "'None'"
      ]
     },
     "execution_count": 9,
     "metadata": {},
     "output_type": "execute_result"
    }
   ],
   "source": [
    "check_string(10)"
   ]
  },
  {
   "cell_type": "markdown",
   "metadata": {},
   "source": [
    "2.Write a  Python function that returns the middle character of a string or \"None\" if the string length is odd.\n",
    "Click me to see the sample solution"
   ]
  },
  {
   "cell_type": "code",
   "execution_count": 1,
   "metadata": {},
   "outputs": [
    {
     "name": "stdout",
     "output_type": "stream",
     "text": [
      "String length is even, no middle character.\n"
     ]
    }
   ],
   "source": [
    "def get_middle_character(input_string):\n",
    "    length = len(input_string)\n",
    "    \n",
    "    if length % 2 == 0:\n",
    "        return \"None\"\n",
    "    else:\n",
    "        middle_index = length // 2\n",
    "        return input_string[middle_index]\n",
    "\n",
    "def main():\n",
    "    try:\n",
    "        input_string = input(\"Input a string: \")\n",
    "        result = get_middle_character(input_string)\n",
    "        \n",
    "        if result == \"None\":\n",
    "            print(\"String length is even, no middle character.\")\n",
    "        else:\n",
    "            print(\"Middle character:\", result)\n",
    "    except Exception as e:\n",
    "        print(\"An error occurred:\", e)\n",
    "\n",
    "if __name__ == \"__main__\":\n",
    "    main()"
   ]
  },
  {
   "cell_type": "code",
   "execution_count": 2,
   "metadata": {},
   "outputs": [
    {
     "name": "stdout",
     "output_type": "stream",
     "text": [
      "Middle character: c\n"
     ]
    }
   ],
   "source": [
    "main()"
   ]
  },
  {
   "cell_type": "markdown",
   "metadata": {},
   "source": [
    "3.Write a Python program that iterates through a list of strings and prints each string. If a string is empty, print \"Empty string\" instead."
   ]
  },
  {
   "cell_type": "code",
   "execution_count": 3,
   "metadata": {},
   "outputs": [
    {
     "name": "stdout",
     "output_type": "stream",
     "text": [
      "Python\n",
      "None\n",
      "Java\n",
      "C++\n",
      "None\n",
      "C#\n"
     ]
    }
   ],
   "source": [
    "def empty_string_handling(string_list):\n",
    "    for s in string_list:\n",
    "        if s:\n",
    "            print(s)\n",
    "        else:\n",
    "            print(None)\n",
    "\n",
    "def main():\n",
    "    try:\n",
    "        text_list = [\"Python\", \"\", \"Java\", \"C++\", \"\", \"C#\"]\n",
    "        empty_string_handling(text_list)\n",
    "    except Exception as e:\n",
    "        print(\"An error occurred:\", e)\n",
    "\n",
    "if __name__ == \"__main__\":\n",
    "    main()"
   ]
  },
  {
   "cell_type": "markdown",
   "metadata": {},
   "source": [
    "4.Write a Python function that checks if a given list is sorted in descending order. Return None if the list is empty."
   ]
  },
  {
   "cell_type": "code",
   "execution_count": 4,
   "metadata": {},
   "outputs": [
    {
     "name": "stdout",
     "output_type": "stream",
     "text": [
      "List is not sorted in descending order.\n"
     ]
    }
   ],
   "source": [
    "def is_descending_sorted(input_list):\n",
    "    if not input_list:\n",
    "        return None\n",
    "    \n",
    "    sorted_descending = all(input_list[i] >= input_list[i + 1] for i in range(len(input_list) - 1))\n",
    "    return sorted_descending\n",
    "\n",
    "def main():\n",
    "    try:\n",
    "       # nums = [7, 7, 8, 2, 1]\n",
    "        nums  = [1, 2, 3, 4, 5]\n",
    "        result = is_descending_sorted(nums)\n",
    "        \n",
    "        if result is None:\n",
    "            print(\"List is empty.\")\n",
    "        elif result:\n",
    "            print(\"List is sorted in descending order.\")\n",
    "        else:\n",
    "            print(\"List is not sorted in descending order.\")\n",
    "    except Exception as e:\n",
    "        print(\"An error occurred:\", e)\n",
    "\n",
    "if __name__ == \"__main__\":\n",
    "    main()"
   ]
  },
  {
   "cell_type": "markdown",
   "metadata": {},
   "source": [
    "5.Write a Python program that takes a user's input and converts it to uppercase. If the input is empty, return None."
   ]
  },
  {
   "cell_type": "code",
   "execution_count": 5,
   "metadata": {},
   "outputs": [
    {
     "name": "stdout",
     "output_type": "stream",
     "text": [
      "Uppercase result: SDFSD\n"
     ]
    }
   ],
   "source": [
    "def convert_to_uppercase(input_string):\n",
    "    if not input_string:\n",
    "        return None\n",
    "    \n",
    "    return input_string.upper()\n",
    "\n",
    "def main():\n",
    "    try:\n",
    "        str_input = input(\"Enter a string: \")\n",
    "        result = convert_to_uppercase(str_input)\n",
    "        \n",
    "        if result is None:\n",
    "            print(\"Input is empty.\")\n",
    "        else:\n",
    "            print(\"Uppercase result:\", result)\n",
    "    except Exception as e:\n",
    "        print(\"An error occurred:\", e)\n",
    "\n",
    "if __name__ == \"__main__\":\n",
    "    main()"
   ]
  },
  {
   "cell_type": "code",
   "execution_count": 4,
   "metadata": {},
   "outputs": [
    {
     "name": "stdout",
     "output_type": "stream",
     "text": [
      "Original List: [2, 4, 6, 8, 10]\n",
      "New List with None: [2, None, 4, None, 6, None, 8, None, 10]\n"
     ]
    }
   ],
   "source": [
    "main()"
   ]
  },
  {
   "cell_type": "code",
   "execution_count": 3,
   "metadata": {},
   "outputs": [
    {
     "name": "stdout",
     "output_type": "stream",
     "text": [
      "Original List: [2, 4, 6, 8, 10]\n",
      "New List with None: [2, None, 4, None, 6, None, 8, None, 10]\n"
     ]
    }
   ],
   "source": [
    "main()"
   ]
  },
  {
   "cell_type": "markdown",
   "metadata": {},
   "source": [
    "6.Write a  Python program that defines a dictionary and retrieves a value using a key. If the key is not found, return None."
   ]
  },
  {
   "cell_type": "code",
   "execution_count": 7,
   "metadata": {},
   "outputs": [
    {
     "name": "stdout",
     "output_type": "stream",
     "text": [
      "The value for key 'age' is: 25\n"
     ]
    }
   ],
   "source": [
    "def retrieve_value(dictionary, key):\n",
    "    if key in dictionary:\n",
    "        return dictionary[key]\n",
    "    else:\n",
    "        return None\n",
    "\n",
    "def main():\n",
    "    try:\n",
    "        person_data = {\"name\": \"Bonifaas Shyam\", \"age\": 25, \"city\": \"Paris\"}\n",
    "        #person_data = {\"name\": \"Bonifaas Shyam\", \"city\": \"Paris\"}\n",
    "        search_key = \"age\"\n",
    "        \n",
    "        result = retrieve_value(person_data, search_key)\n",
    "        \n",
    "        if result is None:\n",
    "            print(f\"Key '{search_key}' not found.\")\n",
    "        else:\n",
    "            print(f\"The value for key '{search_key}' is:\", result)\n",
    "    except Exception as e:\n",
    "        print(\"An error occurred:\", e)\n",
    "\n",
    "if __name__ == \"__main__\":\n",
    "    main()"
   ]
  },
  {
   "cell_type": "markdown",
   "metadata": {},
   "source": [
    "7.Write a  Python function that counts None values in a list recursively. Return 0 if the list is empty.\n"
   ]
  },
  {
   "cell_type": "code",
   "execution_count": 8,
   "metadata": {},
   "outputs": [
    {
     "name": "stdout",
     "output_type": "stream",
     "text": [
      "Number of None values: 3\n"
     ]
    }
   ],
   "source": [
    "def count_none(input_list):\n",
    "    if not input_list:\n",
    "        return 0\n",
    "    \n",
    "    head, *tail = input_list\n",
    "    if head is None:\n",
    "        return 1 + count_none(tail)\n",
    "    else:\n",
    "        return count_none(tail)\n",
    "\n",
    "def main():\n",
    "    try:\n",
    "        values_list = [None, \"Red\", None, 8, None, True]\n",
    "        result = count_none(values_list)\n",
    "        \n",
    "        print(\"Number of None values:\", result)\n",
    "    except Exception as e:\n",
    "        print(\"An error occurred:\", e)\n",
    "\n",
    "if __name__ == \"__main__\":\n",
    "    main()"
   ]
  },
  {
   "cell_type": "markdown",
   "metadata": {},
   "source": [
    "8.Write a Python function that takes two arguments and returns their sum if both aren't None, otherwise return None."
   ]
  },
  {
   "cell_type": "code",
   "execution_count": 9,
   "metadata": {},
   "outputs": [
    {
     "name": "stdout",
     "output_type": "stream",
     "text": [
      "At least one argument is None.\n"
     ]
    }
   ],
   "source": [
    "def sum_without_none(a, b):\n",
    "    if a is not None and b is not None:\n",
    "        return a + b\n",
    "    else:\n",
    "        return None\n",
    "\n",
    "def main():\n",
    "    try:\n",
    "        num1 = 3\n",
    "        num2 = None\n",
    "        result = sum_without_none(num1, num2)\n",
    "        \n",
    "        if result is None:\n",
    "            print(\"At least one argument is None.\")\n",
    "        else:\n",
    "            print(\"Sum:\", result)\n",
    "    except Exception as e:\n",
    "        print(\"An error occurred:\", e)\n",
    "\n",
    "if __name__ == \"__main__\":\n",
    "    main()"
   ]
  },
  {
   "cell_type": "markdown",
   "metadata": {},
   "source": [
    "9.Write a Python function that takes a list and returns a new list with None inserted between each element."
   ]
  },
  {
   "cell_type": "code",
   "execution_count": 2,
   "metadata": {},
   "outputs": [
    {
     "name": "stdout",
     "output_type": "stream",
     "text": [
      "Original List: [2, 4, 6, 8, 10]\n",
      "New List with None: [2, None, 4, None, 6, None, 8, None, 10]\n"
     ]
    }
   ],
   "source": [
    "def insert_none(input_list):\n",
    "    new_list = []\n",
    "    for item in input_list:\n",
    "        new_list.append(item)\n",
    "        new_list.append(None)\n",
    "    new_list.pop()  # Remove the last None added\n",
    "    return new_list\n",
    "\n",
    "def main():\n",
    "    try:\n",
    "        original_list = [2, 4, 6, 8, 10]\n",
    "        new_list = insert_none(original_list)\n",
    "        \n",
    "        print(\"Original List:\", original_list)\n",
    "        print(\"New List with None:\", new_list)\n",
    "    except Exception as e:\n",
    "        print(\"An error occurred:\", e)\n",
    "\n",
    "if __name__ == \"__main__\":\n",
    "    main()"
   ]
  },
  {
   "cell_type": "markdown",
   "metadata": {},
   "source": [
    "10.Write a Python function that replaces all occurrences of a substring in a string with another substring. Returns None if the original string is empty."
   ]
  },
  {
   "cell_type": "code",
   "execution_count": 1,
   "metadata": {},
   "outputs": [
    {
     "name": "stdout",
     "output_type": "stream",
     "text": [
      "Original String: Java Exercises!\n",
      "New String: Python Exercises!\n"
     ]
    }
   ],
   "source": [
    "def replace_substr(original_string, old_substring, new_substring):\n",
    "    if original_string:\n",
    "        return original_string.replace(old_substring, new_substring)\n",
    "    else:\n",
    "        return None\n",
    "\n",
    "def main():\n",
    "    try:\n",
    "        input_string = \"Java Exercises!\"\n",
    "        old_substr = \"Java\"\n",
    "        new_substr = \"Python\"\n",
    "        \n",
    "        result = replace_substr(input_string, old_substr, new_substr)\n",
    "        \n",
    "        if result is None:\n",
    "            print(\"Original string is empty.\")\n",
    "        else:\n",
    "            print(\"Original String:\", input_string)\n",
    "            print(\"New String:\", result)\n",
    "    except Exception as e:\n",
    "        print(\"An error occurred:\", e)\n",
    "\n",
    "if __name__ == \"__main__\":\n",
    "    main()"
   ]
  },
  {
   "cell_type": "code",
   "execution_count": 5,
   "metadata": {},
   "outputs": [
    {
     "name": "stdout",
     "output_type": "stream",
     "text": [
      "Original List: [2, 4, 6, 8, 10]\n",
      "New List with None: [2, None, 4, None, 6, None, 8, None, 10]\n"
     ]
    }
   ],
   "source": [
    "main()"
   ]
  }
 ],
 "metadata": {
  "kernelspec": {
   "display_name": "dblearn",
   "language": "python",
   "name": "python3"
  },
  "language_info": {
   "codemirror_mode": {
    "name": "ipython",
    "version": 3
   },
   "file_extension": ".py",
   "mimetype": "text/x-python",
   "name": "python",
   "nbconvert_exporter": "python",
   "pygments_lexer": "ipython3",
   "version": "3.12.1"
  }
 },
 "nbformat": 4,
 "nbformat_minor": 2
}
