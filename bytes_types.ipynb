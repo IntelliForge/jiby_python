{
 "cells": [
  {
   "cell_type": "markdown",
   "metadata": {},
   "source": [
    "1. Write a Python program to convert a given string to bytes using different encodings like UTF-8, UTF-16, ASCII etc."
   ]
  },
  {
   "cell_type": "code",
   "execution_count": 7,
   "metadata": {},
   "outputs": [],
   "source": [
    "def convert_to_bytes(input_string, encoding):\n",
    "    encoded_bytes = input_string.encode(encoding)\n",
    "    return encoded_bytes\n",
    "    "
   ]
  },
  {
   "cell_type": "code",
   "execution_count": 2,
   "metadata": {},
   "outputs": [
    {
     "data": {
      "text/plain": [
       "b'aby'"
      ]
     },
     "execution_count": 2,
     "metadata": {},
     "output_type": "execute_result"
    }
   ],
   "source": [
    "convert_to_bytes('aby', 'utf-8')"
   ]
  },
  {
   "cell_type": "code",
   "execution_count": 3,
   "metadata": {},
   "outputs": [
    {
     "data": {
      "text/plain": [
       "b'\\xff\\xfea\\x00b\\x00y\\x00'"
      ]
     },
     "execution_count": 3,
     "metadata": {},
     "output_type": "execute_result"
    }
   ],
   "source": [
    "convert_to_bytes('aby', 'utf-16')"
   ]
  },
  {
   "cell_type": "code",
   "execution_count": 4,
   "metadata": {},
   "outputs": [
    {
     "data": {
      "text/plain": [
       "b'aby'"
      ]
     },
     "execution_count": 4,
     "metadata": {},
     "output_type": "execute_result"
    }
   ],
   "source": [
    "convert_to_bytes('aby', 'ascii')"
   ]
  },
  {
   "cell_type": "code",
   "execution_count": 5,
   "metadata": {},
   "outputs": [
    {
     "name": "stdout",
     "output_type": "stream",
     "text": [
      "Error: 'int' object has no attribute 'encode'\n"
     ]
    }
   ],
   "source": [
    "convert_to_bytes(23, 'utf-8')"
   ]
  },
  {
   "cell_type": "code",
   "execution_count": 9,
   "metadata": {},
   "outputs": [
    {
     "name": "stdout",
     "output_type": "stream",
     "text": [
      "Please enter a valid input string\n",
      "'int' object has no attribute 'encode'\n"
     ]
    }
   ],
   "source": [
    "try:\n",
    "    convert_to_bytes(23, 'utf-8')\n",
    "except Exception as e:\n",
    "    print(\"Please enter a valid input string\")\n",
    "    print(e)"
   ]
  },
  {
   "cell_type": "markdown",
   "metadata": {},
   "source": [
    "2. Write a  Python program that concatenates two given bytes objects."
   ]
  },
  {
   "cell_type": "code",
   "execution_count": 1,
   "metadata": {},
   "outputs": [
    {
     "name": "stdout",
     "output_type": "stream",
     "text": [
      "Bytes 1: b'Python '\n",
      "Bytes 2: b'Exercises!'\n",
      "Concatenated Bytes: b'Python Exercises!'\n",
      "Concatenated String: Python Exercises!\n"
     ]
    }
   ],
   "source": [
    "def concatenate_bytes(byte_obj1, byte_obj2):\n",
    "    concatenated_bytes = byte_obj1 + byte_obj2\n",
    "    return concatenated_bytes\n",
    "\n",
    "def main():\n",
    "    try:\n",
    "        str_bytes1 = b\"Python \"\n",
    "        str_bytes2 = b\"Exercises!\"        \n",
    "        concatenated_result = concatenate_bytes(str_bytes1, str_bytes2)        \n",
    "        print(\"Bytes 1:\", str_bytes1)\n",
    "        print(\"Bytes 2:\", str_bytes2)\n",
    "        print(\"Concatenated Bytes:\", concatenated_result)\n",
    "        print(\"Concatenated String:\", concatenated_result.decode(\"utf-8\"))\n",
    "    except Exception as e:\n",
    "        print(\"An error occurred:\", e)\n",
    "\n",
    "if __name__ == \"__main__\":\n",
    "    main()"
   ]
  },
  {
   "cell_type": "markdown",
   "metadata": {},
   "source": [
    "3. Write a Python program to create a bytearray from a given list of integers."
   ]
  },
  {
   "cell_type": "code",
   "execution_count": 2,
   "metadata": {},
   "outputs": [
    {
     "name": "stdout",
     "output_type": "stream",
     "text": [
      "Integer List: [72, 123, 21, 108, 222, 67, 44, 38, 10]\n",
      "Bytearray: bytearray(b'H{\\x15l\\xdeC,&\\n')\n",
      "An error occurred: 'utf-8' codec can't decode byte 0xde in position 4: invalid continuation byte\n"
     ]
    }
   ],
   "source": [
    "def  bytearray_from_list(int_list):\n",
    "    byte_array = bytearray(int_list)\n",
    "    return byte_array\n",
    "\n",
    "def main():\n",
    "    try:\n",
    "        nums = [72, 123, 21, 108, 222, 67, 44, 38, 10]\n",
    "        \n",
    "        byte_array_result = bytearray_from_list(nums)\n",
    "        \n",
    "        print(\"Integer List:\", nums)\n",
    "        print(\"Bytearray:\", byte_array_result)\n",
    "        print(\"Decoded String:\", byte_array_result.decode(\"utf-8\"))\n",
    "    except Exception as e:\n",
    "        print(\"An error occurred:\", e)\n",
    "\n",
    "if __name__ == \"__main__\":\n",
    "    main()"
   ]
  },
  {
   "cell_type": "markdown",
   "metadata": {},
   "source": [
    "4 .Write a Python program that converts a hexadecimal string into a bytes sequence."
   ]
  },
  {
   "cell_type": "code",
   "execution_count": 7,
   "metadata": {},
   "outputs": [
    {
     "name": "stdout",
     "output_type": "stream",
     "text": [
      "Hexadecimal String: 4861636b657220436f6465\n",
      "Bytes Sequence: b'Hacker Code'\n",
      "Decoded String: Hacker Code\n"
     ]
    }
   ],
   "source": [
    "def hex_str_to_bytes(hex_string):\n",
    "    try:\n",
    "        bytes_sequence = bytes.fromhex(hex_string)\n",
    "        return bytes_sequence\n",
    "    except ValueError as ve:\n",
    "        print(\"Error:\", ve)\n",
    "        return None\n",
    "\n",
    "def main():\n",
    "    try:\n",
    "        hex_string = \"4861636b657220436f6465\" \n",
    "        \n",
    "        bytes_result = hex_str_to_bytes(hex_string)\n",
    "        \n",
    "        if bytes_result is not None:\n",
    "            print(\"Hexadecimal String:\", hex_string)\n",
    "            print(\"Bytes Sequence:\", bytes_result)\n",
    "            print(\"Decoded String:\", bytes_result.decode(\"utf-8\"))\n",
    "    except Exception as e:\n",
    "        print(\"An error occurred:\", e)\n",
    "\n",
    "if __name__ == \"__main__\":\n",
    "    main()\n"
   ]
  },
  {
   "cell_type": "markdown",
   "metadata": {},
   "source": [
    "5.Write a Python function to reverse a given bytes object."
   ]
  },
  {
   "cell_type": "code",
   "execution_count": 8,
   "metadata": {},
   "outputs": [
    {
     "name": "stdout",
     "output_type": "stream",
     "text": [
      "Original Bytes: b'Python Exercises!'\n",
      "Reversed Bytes: b'!sesicrexE nohtyP'\n",
      "Reversed String: !sesicrexE nohtyP\n"
     ]
    }
   ],
   "source": [
    "def reverse_bytes(byte_obj):\n",
    "    reversed_bytes = byte_obj[::-1]\n",
    "    return reversed_bytes\n",
    "\n",
    "def main():\n",
    "    try:\n",
    "        original_bytes = b\"Python Exercises!\"\n",
    "        \n",
    "        reversed_result = reverse_bytes(original_bytes)\n",
    "        \n",
    "        print(\"Original Bytes:\", original_bytes)\n",
    "        print(\"Reversed Bytes:\", reversed_result)\n",
    "        print(\"Reversed String:\", reversed_result.decode(\"utf-8\"))\n",
    "    except Exception as e:\n",
    "        print(\"An error occurred:\", e)\n",
    "\n",
    "if __name__ == \"__main__\":\n",
    "    main()\n"
   ]
  },
  {
   "cell_type": "markdown",
   "metadata": {},
   "source": [
    "6. Write a Python program that checks if two bytes objects are equal."
   ]
  },
  {
   "cell_type": "code",
   "execution_count": 9,
   "metadata": {},
   "outputs": [
    {
     "name": "stdout",
     "output_type": "stream",
     "text": [
      "Bytes Object-1: b'Python'\n",
      "Bytes Object-2: b'Java'\n",
      "Bytes Object-3: b'Exercises'\n",
      "\n",
      "Are Bytes Object-1 and Object-2 equal? False\n",
      "Are Bytes Object-1 and Object-3 equal? False\n",
      "Are Bytes Object-1 and Object-4 equal? True\n"
     ]
    }
   ],
   "source": [
    "def are_bytes_equal(bytes_obj1, bytes_obj2):\n",
    "    return bytes_obj1 == bytes_obj2\n",
    "\n",
    "def main():\n",
    "    try:\n",
    "        bytes_obj1 = b\"Python\"\n",
    "        bytes_obj2 = b\"Java\"\n",
    "        bytes_obj3 = b\"Exercises\"\n",
    "        bytes_obj4 = b\"Python\"\n",
    "        \n",
    "        are_equal_obj1_obj2 = are_bytes_equal(bytes_obj1, bytes_obj2)\n",
    "        are_equal_obj1_obj3 = are_bytes_equal(bytes_obj1, bytes_obj3)\n",
    "        are_equal_obj1_obj4 = are_bytes_equal(bytes_obj1, bytes_obj4)\n",
    "        \n",
    "        print(\"Bytes Object-1:\", bytes_obj1)\n",
    "        print(\"Bytes Object-2:\", bytes_obj2)\n",
    "        print(\"Bytes Object-3:\", bytes_obj3)\n",
    "        \n",
    "        print(\"\\nAre Bytes Object-1 and Object-2 equal?\",  are_equal_obj1_obj2)\n",
    "        print(\"Are Bytes Object-1 and Object-3 equal?\", are_equal_obj1_obj3)\n",
    "        print(\"Are Bytes Object-1 and Object-4 equal?\", are_equal_obj1_obj4)\n",
    "    except Exception as e:\n",
    "        print(\"An error occurred:\", e)\n",
    "\n",
    "if __name__ == \"__main__\":\n",
    "    main()\n"
   ]
  },
  {
   "cell_type": "markdown",
   "metadata": {},
   "source": [
    "7.Write a  Python program to compress and decompress a bytes sequence using zlib."
   ]
  },
  {
   "cell_type": "code",
   "execution_count": 10,
   "metadata": {},
   "outputs": [
    {
     "name": "stdout",
     "output_type": "stream",
     "text": [
      "Original Bytes: b'Python Exercises.'\n",
      "\n",
      "Compressed Bytes: b'x\\x9c\\x0b\\xa8,\\xc9\\xc8\\xcfSp\\xadH-J\\xce,N-\\xd6\\x03\\x00;6\\x06|'\n",
      "\n",
      "Decompressed Bytes: b'Python Exercises.'\n",
      "\n",
      "Decompressed String: Python Exercises.\n"
     ]
    }
   ],
   "source": [
    "import zlib\n",
    "\n",
    "def compress_bytes(byte_obj):\n",
    "    compressed_bytes = zlib.compress(byte_obj)\n",
    "    return compressed_bytes\n",
    "\n",
    "def decompress_bytes(compressed_byte_obj):\n",
    "    decompressed_bytes = zlib.decompress(compressed_byte_obj)\n",
    "    return decompressed_bytes\n",
    "\n",
    "def main():\n",
    "    try:\n",
    "        original_string = b\"Python Exercises.\"\n",
    "\n",
    "        compressed_string = compress_bytes(original_string)\n",
    "        decompressed_string = decompress_bytes(compressed_string)\n",
    "\n",
    "        print(\"Original Bytes:\", original_string)\n",
    "        print(\"\\nCompressed Bytes:\", compressed_string)\n",
    "        print(\"\\nDecompressed Bytes:\", decompressed_string)\n",
    "        print(\"\\nDecompressed String:\", decompressed_string.decode(\"utf-8\"))\n",
    "    except Exception as e:\n",
    "        print(\"An error occurred:\", e)\n",
    "\n",
    "if __name__ == \"__main__\":\n",
    "    main()\n"
   ]
  },
  {
   "cell_type": "markdown",
   "metadata": {},
   "source": [
    "8.Write a Python function that converts a bytearray to a bytes object."
   ]
  },
  {
   "cell_type": "code",
   "execution_count": 14,
   "metadata": {},
   "outputs": [
    {
     "name": "stdout",
     "output_type": "stream",
     "text": [
      "Original Bytearray: bytearray(b'\\x0c3\\n\\x0f_f\\x84u')\n",
      "Bytes Object: b'\\x0c3\\n\\x0f_f\\x84u'\n",
      "An error occurred: 'utf-8' codec can't decode byte 0x84 in position 6: invalid start byte\n"
     ]
    }
   ],
   "source": [
    "def bytearray_to_bytes(bytearray_obj):\n",
    "    bytes_obj = bytes(bytearray_obj)\n",
    "    return bytes_obj\n",
    "\n",
    "def main():\n",
    "    try:\n",
    "        original_bytearray = bytearray([12, 51, 10, 15, 95, 102, 132, 117])\n",
    "        \n",
    "        bytes_result = bytearray_to_bytes(original_bytearray)\n",
    "        \n",
    "        print(\"Original Bytearray:\", original_bytearray)\n",
    "        print(\"Bytes Object:\", bytes_result)\n",
    "        print(\"Decoded String:\", bytes_result.decode(\"utf-8\"))\n",
    "    except Exception as e:\n",
    "        print(\"An error occurred:\", e)\n",
    "\n",
    "if __name__ == \"__main__\":\n",
    "    main()\n"
   ]
  }
 ],
 "metadata": {
  "kernelspec": {
   "display_name": "dblearn",
   "language": "python",
   "name": "python3"
  },
  "language_info": {
   "codemirror_mode": {
    "name": "ipython",
    "version": 3
   },
   "file_extension": ".py",
   "mimetype": "text/x-python",
   "name": "python",
   "nbconvert_exporter": "python",
   "pygments_lexer": "ipython3",
   "version": "3.12.1"
  }
 },
 "nbformat": 4,
 "nbformat_minor": 2
}
