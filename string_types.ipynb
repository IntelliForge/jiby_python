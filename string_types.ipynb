{
 "cells": [
  {
   "cell_type": "markdown",
   "metadata": {},
   "source": [
    "1. Write a Python program to calculate the length of a string."
   ]
  },
  {
   "cell_type": "code",
   "execution_count": 3,
   "metadata": {},
   "outputs": [],
   "source": [
    "def string_length(str1):\n",
    "    count = 0\n",
    "    for char in str1:\n",
    "        count += 1\n",
    "    return count"
   ]
  },
  {
   "cell_type": "code",
   "execution_count": 8,
   "metadata": {},
   "outputs": [
    {
     "data": {
      "text/plain": [
       "14"
      ]
     },
     "execution_count": 8,
     "metadata": {},
     "output_type": "execute_result"
    }
   ],
   "source": [
    "string_length('w3resource.com')"
   ]
  },
  {
   "cell_type": "code",
   "execution_count": 7,
   "metadata": {},
   "outputs": [
    {
     "data": {
      "text/plain": [
       "4"
      ]
     },
     "execution_count": 7,
     "metadata": {},
     "output_type": "execute_result"
    }
   ],
   "source": [
    "string_length('jiby')"
   ]
  },
  {
   "cell_type": "markdown",
   "metadata": {},
   "source": [
    "2. Write a  Python program to count the number of characters (character frequency) in a string."
   ]
  },
  {
   "cell_type": "code",
   "execution_count": 1,
   "metadata": {},
   "outputs": [],
   "source": [
    "def char_frequency(str1):\n",
    "    \n",
    "    dict = {}\n",
    "    \n",
    "    for n in str1:\n",
    "    \n",
    "        keys = dict.keys()\n",
    "        \n",
    "        if n in keys:\n",
    "            dict[n] += 1\n",
    "        else:\n",
    "            dict[n] = 1\n",
    "    \n",
    "    return dict"
   ]
  },
  {
   "cell_type": "code",
   "execution_count": 2,
   "metadata": {},
   "outputs": [
    {
     "name": "stdout",
     "output_type": "stream",
     "text": [
      "{'g': 2, 'o': 3, 'l': 1, 'e': 1, '.': 1, 'c': 1, 'm': 1}\n"
     ]
    }
   ],
   "source": [
    "print(char_frequency('google.com')) "
   ]
  },
  {
   "cell_type": "markdown",
   "metadata": {},
   "source": [
    "3. Write a  Python program to get a string made of the first 2 and last 2 characters of a given string. If the string length is less than 2, return the empty string instead."
   ]
  },
  {
   "cell_type": "code",
   "execution_count": 4,
   "metadata": {},
   "outputs": [],
   "source": [
    "\n",
    "def string_both_ends(str):\n",
    "    \n",
    "    if len(str) < 2:\n",
    "\n",
    "        return ''\n",
    "\n",
    "    return str[0:2] + str[-2:]"
   ]
  },
  {
   "cell_type": "code",
   "execution_count": 5,
   "metadata": {},
   "outputs": [
    {
     "name": "stdout",
     "output_type": "stream",
     "text": [
      "w3ce\n"
     ]
    }
   ],
   "source": [
    "print(string_both_ends('w3resource'))  "
   ]
  },
  {
   "cell_type": "code",
   "execution_count": 6,
   "metadata": {},
   "outputs": [
    {
     "name": "stdout",
     "output_type": "stream",
     "text": [
      "w3w3\n"
     ]
    }
   ],
   "source": [
    "print(string_both_ends('w3'))          "
   ]
  },
  {
   "cell_type": "code",
   "execution_count": 8,
   "metadata": {},
   "outputs": [
    {
     "name": "stdout",
     "output_type": "stream",
     "text": [
      "\n"
     ]
    }
   ],
   "source": [
    "print(string_both_ends('w'))           "
   ]
  },
  {
   "cell_type": "markdown",
   "metadata": {},
   "source": [
    "4. Write a  Python program to get a string from a given string where all occurrences of its first char have been changed to '$', except the first char itself."
   ]
  },
  {
   "cell_type": "code",
   "execution_count": 9,
   "metadata": {},
   "outputs": [
    {
     "name": "stdout",
     "output_type": "stream",
     "text": [
      "resta$t\n"
     ]
    }
   ],
   "source": [
    "def change_char(str1):\n",
    "    char = str1[0]\n",
    "\n",
    "    str1 = str1.replace(char, '$')\n",
    "\n",
    "    str1 = char + str1[1:]\n",
    "\n",
    "    return str1\n",
    "\n",
    "print(change_char('restart'))  "
   ]
  },
  {
   "cell_type": "markdown",
   "metadata": {},
   "source": [
    "5. Write a  Python program to get a single string from two given strings, separated by a space and swap the first two characters of each string."
   ]
  },
  {
   "cell_type": "code",
   "execution_count": 10,
   "metadata": {},
   "outputs": [],
   "source": [
    "def chars_mix_up(a, b):\n",
    "    new_a = b[:2] + a[2:]\n",
    "\n",
    "    new_b = a[:2] + b[2:]\n",
    "\n",
    "    return new_a + ' ' + new_b"
   ]
  },
  {
   "cell_type": "code",
   "execution_count": 11,
   "metadata": {},
   "outputs": [
    {
     "name": "stdout",
     "output_type": "stream",
     "text": [
      "xyc abz\n"
     ]
    }
   ],
   "source": [
    "print(chars_mix_up('abc', 'xyz'))  "
   ]
  },
  {
   "cell_type": "markdown",
   "metadata": {},
   "source": [
    "6. Write a  Python program to remove the nth index character from a nonempty string."
   ]
  },
  {
   "cell_type": "code",
   "execution_count": 12,
   "metadata": {},
   "outputs": [
    {
     "name": "stdout",
     "output_type": "stream",
     "text": [
      "ython\n",
      "Pyton\n",
      "Pytho\n"
     ]
    }
   ],
   "source": [
    "def remove_char(str, n):\n",
    "\n",
    "    first_part = str[:n]\n",
    "\n",
    "    last_part = str[n+1:]\n",
    "\n",
    "    return first_part + last_part\n",
    "\n",
    "print(remove_char('Python', 0))  \n",
    "print(remove_char('Python', 3))  \n",
    "print(remove_char('Python', 5)) "
   ]
  },
  {
   "cell_type": "markdown",
   "metadata": {},
   "source": [
    "7. Write a  Python program to change a given string to a newly string where the first and last chars have been exchanged."
   ]
  },
  {
   "cell_type": "code",
   "execution_count": 13,
   "metadata": {},
   "outputs": [
    {
     "name": "stdout",
     "output_type": "stream",
     "text": [
      "dbca\n",
      "52341\n"
     ]
    }
   ],
   "source": [
    "def change_string(str1):\n",
    "    \n",
    "    return str1[-1:] + str1[1:-1] + str1[:1]\n",
    "\n",
    "print(change_string('abcd'))   \n",
    "print(change_string('12345'))  "
   ]
  },
  {
   "cell_type": "markdown",
   "metadata": {},
   "source": [
    "8. Write a  Python program to remove characters that have odd index values in a given string."
   ]
  },
  {
   "cell_type": "code",
   "execution_count": 14,
   "metadata": {},
   "outputs": [
    {
     "name": "stdout",
     "output_type": "stream",
     "text": [
      "ace\n",
      "pto\n"
     ]
    }
   ],
   "source": [
    "def odd_values_string(str):\n",
    "    \n",
    "    result = \"\"\n",
    "    \n",
    "    for i in range(len(str)):\n",
    "\n",
    "        if i % 2 == 0:\n",
    "\n",
    "            result = result + str[i]\n",
    "    \n",
    "    return result\n",
    "\n",
    "\n",
    "print(odd_values_string('abcdef'))  \n",
    "print(odd_values_string('python'))  "
   ]
  },
  {
   "cell_type": "markdown",
   "metadata": {},
   "source": [
    "9. Write a  Python program to count the occurrences of each word in a given sentence."
   ]
  },
  {
   "cell_type": "code",
   "execution_count": 15,
   "metadata": {},
   "outputs": [],
   "source": [
    "def word_count(str):\n",
    "    \n",
    "    counts = dict()\n",
    "    \n",
    "    words = str.split()\n",
    "\n",
    "    for word in words:\n",
    "        \n",
    "        if word in counts:\n",
    "            \n",
    "            counts[word] += 1\n",
    "        else:\n",
    "            \n",
    "            counts[word] = 1\n",
    "\n",
    "    return counts"
   ]
  },
  {
   "cell_type": "code",
   "execution_count": 16,
   "metadata": {},
   "outputs": [
    {
     "name": "stdout",
     "output_type": "stream",
     "text": [
      "{'the': 2, 'quick': 1, 'brown': 1, 'fox': 1, 'jumps': 1, 'over': 1, 'lazy': 1, 'dog.': 1}\n"
     ]
    }
   ],
   "source": [
    "print( word_count('the quick brown fox jumps over the lazy dog.'))"
   ]
  },
  {
   "cell_type": "markdown",
   "metadata": {},
   "source": [
    "10. Write a  Python script that takes input from the user and displays that input back in upper and lower cases."
   ]
  },
  {
   "cell_type": "code",
   "execution_count": 17,
   "metadata": {},
   "outputs": [
    {
     "name": "stdout",
     "output_type": "stream",
     "text": [
      "My favorite language is  ENGLISH\n"
     ]
    }
   ],
   "source": [
    "user_input = input(\"What's your favorite language? \")\n",
    "\n",
    "print(\"My favorite language is \", user_input.upper())"
   ]
  },
  {
   "cell_type": "code",
   "execution_count": 18,
   "metadata": {},
   "outputs": [
    {
     "name": "stdout",
     "output_type": "stream",
     "text": [
      "My favorite language is  english\n"
     ]
    }
   ],
   "source": [
    "print(\"My favorite language is \", user_input.lower()) "
   ]
  },
  {
   "cell_type": "markdown",
   "metadata": {},
   "source": [
    "11. Write a  Python program that accepts a comma-separated sequence of words as input and prints the distinct words in sorted form (alphanumerically)."
   ]
  },
  {
   "cell_type": "code",
   "execution_count": 20,
   "metadata": {},
   "outputs": [
    {
     "name": "stdout",
     "output_type": "stream",
     "text": [
      " green, pink, red ,black\n"
     ]
    }
   ],
   "source": [
    "items = input(\"Input comma-separated sequence of words\")\n",
    "\n",
    "words = [word for word in items.split(\",\")]\n",
    "\n",
    "print(\",\".join(sorted(list(set(words)))))"
   ]
  },
  {
   "cell_type": "markdown",
   "metadata": {},
   "source": [
    "12. Write a  Python function to reverse a string if its length is a multiple of 4."
   ]
  },
  {
   "cell_type": "code",
   "execution_count": 21,
   "metadata": {},
   "outputs": [
    {
     "name": "stdout",
     "output_type": "stream",
     "text": [
      "dcba\n",
      "python\n"
     ]
    }
   ],
   "source": [
    "def reverse_string(str1):\n",
    "    \n",
    "    if len(str1) % 4 == 0:\n",
    "        \n",
    "        return ''.join(reversed(str1))\n",
    "    \n",
    "    return str1\n",
    "\n",
    "print(reverse_string('abcd'))   \n",
    "print(reverse_string('python')) \n"
   ]
  },
  {
   "cell_type": "markdown",
   "metadata": {},
   "source": [
    "13. Write a  Python function to convert a given string to all uppercase if it contains at least 2 uppercase characters in the first 4 characters."
   ]
  },
  {
   "cell_type": "code",
   "execution_count": 22,
   "metadata": {},
   "outputs": [
    {
     "name": "stdout",
     "output_type": "stream",
     "text": [
      "Python\n"
     ]
    }
   ],
   "source": [
    "def to_uppercase(str1):\n",
    "\n",
    "    num_upper = 0\n",
    "\n",
    "    for letter in str1[:4]:\n",
    "       \n",
    "        if letter.upper() == letter:\n",
    "            \n",
    "            num_upper += 1\n",
    "\n",
    "    if num_upper >= 2:\n",
    "        \n",
    "        return str1.upper()\n",
    "    \n",
    "    return str1\n",
    "\n",
    "print(to_uppercase('Python'))  "
   ]
  },
  {
   "cell_type": "code",
   "execution_count": 23,
   "metadata": {},
   "outputs": [
    {
     "name": "stdout",
     "output_type": "stream",
     "text": [
      "PYTHON\n"
     ]
    }
   ],
   "source": [
    "print(to_uppercase('PyThon'))  "
   ]
  },
  {
   "cell_type": "markdown",
   "metadata": {},
   "source": [
    "14. Write a  Python program to sort a string lexicographically."
   ]
  },
  {
   "cell_type": "code",
   "execution_count": 24,
   "metadata": {},
   "outputs": [
    {
     "name": "stdout",
     "output_type": "stream",
     "text": [
      "['3', 'c', 'e', 'e', 'o', 'r', 'r', 's', 'u', 'w']\n"
     ]
    }
   ],
   "source": [
    "def lexicographic_sort(s):\n",
    "    \n",
    "    return sorted(sorted(s), key=str.upper)\n",
    "\n",
    "\n",
    "print(lexicographic_sort('w3resource'))  "
   ]
  },
  {
   "cell_type": "code",
   "execution_count": 25,
   "metadata": {},
   "outputs": [
    {
     "name": "stdout",
     "output_type": "stream",
     "text": [
      "['b', 'c', 'i', 'k', 'n', 'o', 'q', 'r', 'u', 'w']\n"
     ]
    }
   ],
   "source": [
    "print(lexicographic_sort('quickbrown'))  "
   ]
  },
  {
   "cell_type": "markdown",
   "metadata": {},
   "source": [
    "15. Write a  Python program to remove a newline in  Python."
   ]
  },
  {
   "cell_type": "code",
   "execution_count": 26,
   "metadata": {},
   "outputs": [
    {
     "name": "stdout",
     "output_type": "stream",
     "text": [
      "Python Exercises\n",
      "\n",
      "Python Exercises\n"
     ]
    }
   ],
   "source": [
    "str1 = 'Python Exercises\\n'\n",
    "\n",
    "print(str1)\n",
    "\n",
    "print(str1.rstrip()) "
   ]
  },
  {
   "cell_type": "markdown",
   "metadata": {},
   "source": [
    "16. Write a  Python program to check whether a string starts with specified characters."
   ]
  },
  {
   "cell_type": "code",
   "execution_count": 27,
   "metadata": {},
   "outputs": [
    {
     "name": "stdout",
     "output_type": "stream",
     "text": [
      "True\n"
     ]
    }
   ],
   "source": [
    "string = \"w3resource.com\"\n",
    "\n",
    "print(string.startswith(\"w3r\"))"
   ]
  },
  {
   "cell_type": "markdown",
   "metadata": {},
   "source": [
    "17. Write a  Python program to remove existing indentation from all of the lines in a given text."
   ]
  },
  {
   "cell_type": "code",
   "execution_count": 28,
   "metadata": {},
   "outputs": [
    {
     "name": "stdout",
     "output_type": "stream",
     "text": [
      "\n",
      "\n",
      "Python is a widely used high-level, general-purpose, interpreted,\n",
      "dynamic programming language. Its design philosophy emphasizes\n",
      "code readability, and its syntax allows programmers to express\n",
      "concepts in fewer lines of code than possible in languages such\n",
      "as C++ or Java.\n",
      "\n",
      "\n"
     ]
    }
   ],
   "source": [
    "import textwrap\n",
    "sample_text = '''\n",
    "    Python is a widely used high-level, general-purpose, interpreted,\n",
    "    dynamic programming language. Its design philosophy emphasizes\n",
    "    code readability, and its syntax allows programmers to express\n",
    "    concepts in fewer lines of code than possible in languages such\n",
    "    as C++ or Java.\n",
    "    '''\n",
    "text_without_Indentation = textwrap.dedent(sample_text)\n",
    "print()\n",
    "print(text_without_Indentation )\n",
    "print()\n"
   ]
  },
  {
   "cell_type": "markdown",
   "metadata": {},
   "source": [
    "18. Write a  Python program to print the following numbers up to 2 decimal places."
   ]
  },
  {
   "cell_type": "code",
   "execution_count": 29,
   "metadata": {},
   "outputs": [
    {
     "name": "stdout",
     "output_type": "stream",
     "text": [
      "\n",
      "Original Number:  3.1415926\n",
      "Formatted Number: 3.14\n",
      "Original Number:  12.9999\n",
      "Formatted Number: 13.00\n",
      "\n"
     ]
    }
   ],
   "source": [
    "x = 3.1415926\n",
    "\n",
    "y = 12.9999\n",
    "\n",
    "print()\n",
    "\n",
    "print(\"Original Number: \", x)\n",
    "\n",
    "\n",
    "print(\"Formatted Number: \"+\"{:.2f}\".format(x))\n",
    "\n",
    "\n",
    "print(\"Original Number: \", y)\n",
    "\n",
    "\n",
    "print(\"Formatted Number: \"+\"{:.2f}\".format(y))\n",
    "\n",
    "\n",
    "print() \n"
   ]
  },
  {
   "cell_type": "markdown",
   "metadata": {},
   "source": [
    "19. Write a  Python program to display a number with a comma separator."
   ]
  },
  {
   "cell_type": "code",
   "execution_count": 30,
   "metadata": {},
   "outputs": [
    {
     "name": "stdout",
     "output_type": "stream",
     "text": [
      "\n",
      "Original Number:  3000000\n",
      "Formatted Number with comma separator: 3,000,000\n",
      "Original Number:  30000000\n",
      "Formatted Number with comma separator: 30,000,000\n",
      "\n"
     ]
    }
   ],
   "source": [
    "x = 3000000\n",
    "\n",
    "y = 30000000\n",
    "\n",
    "print()\n",
    "\n",
    "print(\"Original Number: \", x)\n",
    "\n",
    "print(\"Formatted Number with comma separator: \"+\"{:,}\".format(x))\n",
    "\n",
    "print(\"Original Number: \", y)\n",
    "\n",
    "print(\"Formatted Number with comma separator: \"+\"{:,}\".format(y))\n",
    "\n",
    "print() "
   ]
  },
  {
   "cell_type": "markdown",
   "metadata": {},
   "source": [
    "20. Write a  Python program to format a number with a percentage."
   ]
  },
  {
   "cell_type": "code",
   "execution_count": 31,
   "metadata": {},
   "outputs": [
    {
     "name": "stdout",
     "output_type": "stream",
     "text": [
      "\n",
      "Original Number:  0.25\n",
      "Formatted Number with percentage: 25.00%\n",
      "Original Number:  -0.25\n",
      "Formatted Number with percentage: -25.00%\n",
      "\n"
     ]
    }
   ],
   "source": [
    "x = 0.25\n",
    "\n",
    "y = -0.25\n",
    "\n",
    "print()\n",
    "\n",
    "print(\"Original Number: \", x)\n",
    "\n",
    "print(\"Formatted Number with percentage: \"+\"{:.2%}\".format(x))\n",
    "\n",
    "print(\"Original Number: \", y)\n",
    "\n",
    "print(\"Formatted Number with percentage: \"+\"{:.2%}\".format(y))\n",
    "\n",
    "print()\n"
   ]
  },
  {
   "cell_type": "markdown",
   "metadata": {},
   "source": [
    "21. Write a  Python program to reverse a string."
   ]
  },
  {
   "cell_type": "code",
   "execution_count": 32,
   "metadata": {},
   "outputs": [
    {
     "name": "stdout",
     "output_type": "stream",
     "text": [
      "\n",
      "fedcba\n",
      ".sesicrexE nohtyP\n",
      "\n"
     ]
    }
   ],
   "source": [
    "def reverse_string(str1):\n",
    "    return ''.join(reversed(str1))\n",
    "\n",
    "print()\n",
    "\n",
    "print(reverse_string(\"abcdef\"))\n",
    "\n",
    "print(reverse_string(\"Python Exercises.\"))\n",
    "\n",
    "print() \n"
   ]
  },
  {
   "cell_type": "markdown",
   "metadata": {},
   "source": [
    "22. Write a  Python program to reverse words in a string."
   ]
  },
  {
   "cell_type": "code",
   "execution_count": 33,
   "metadata": {},
   "outputs": [
    {
     "name": "stdout",
     "output_type": "stream",
     "text": [
      "dog. lazy the over jumps fox brown quick The\n",
      "Exercises. Python\n"
     ]
    }
   ],
   "source": [
    "def reverse_string_words(text):\n",
    "    for line in text.split('\\n'):\n",
    "        return(' '.join(line.split()[::-1]))\n",
    "\n",
    "print(reverse_string_words(\"The quick brown fox jumps over the lazy dog.\"))\n",
    "\n",
    "print(reverse_string_words(\"Python Exercises.\")) \n"
   ]
  },
  {
   "cell_type": "markdown",
   "metadata": {},
   "source": [
    "23. Write a  Python program to strip a set of characters from a string."
   ]
  },
  {
   "cell_type": "code",
   "execution_count": 4,
   "metadata": {},
   "outputs": [
    {
     "name": "stdout",
     "output_type": "stream",
     "text": [
      "\n",
      "Original String: \n",
      "The quick brown fox jumps over the lazy dog.\n",
      "After stripping a, e, i, o, u\n",
      "Th qck brwn fx jmps vr th lzy dg.\n",
      "\n"
     ]
    }
   ],
   "source": [
    "def strip_chars(str, chars):\n",
    "    return \"\".join(c for c in str if c not in chars)\n",
    "\n",
    "print()\n",
    "\n",
    "print(\"Original String: \")\n",
    "print(\"The quick brown fox jumps over the lazy dog.\")\n",
    "\n",
    "print(\"After stripping a, e, i, o, u\")\n",
    "\n",
    "print(strip_chars(\"The quick brown fox jumps over the lazy dog.\", \"aeiou\"))\n",
    "\n",
    "print() \n"
   ]
  },
  {
   "cell_type": "markdown",
   "metadata": {},
   "source": [
    "24. Write a  Python program to lowercase the first n characters in a string."
   ]
  },
  {
   "cell_type": "code",
   "execution_count": 35,
   "metadata": {},
   "outputs": [
    {
     "name": "stdout",
     "output_type": "stream",
     "text": [
      "w3reSOURCE.COM\n"
     ]
    }
   ],
   "source": [
    "str1 = 'W3RESOURCE.COM'\n",
    "\n",
    "print(str1[:4].lower() + str1[4:])"
   ]
  },
  {
   "cell_type": "markdown",
   "metadata": {},
   "source": [
    "25. Write a Python program to split a string on the last occurrence of the delimiter."
   ]
  },
  {
   "cell_type": "code",
   "execution_count": 36,
   "metadata": {},
   "outputs": [
    {
     "name": "stdout",
     "output_type": "stream",
     "text": [
      "['w,3,r,e,s,o,u,r,c', 'e']\n",
      "['w,3,r,e,s,o,u,r', 'c', 'e']\n",
      "['w,3,r,e,s', 'o', 'u', 'r', 'c', 'e']\n"
     ]
    }
   ],
   "source": [
    "str1 = \"w,3,r,e,s,o,u,r,c,e\"\n",
    "\n",
    "print(str1.rsplit(',', 1))\n",
    "\n",
    "print(str1.rsplit(',', 2))\n",
    "\n",
    "print(str1.rsplit(',', 5)) \n"
   ]
  },
  {
   "cell_type": "markdown",
   "metadata": {},
   "source": [
    "26. Write a  Python program to find the first non-repeating character in a given string."
   ]
  },
  {
   "cell_type": "code",
   "execution_count": 37,
   "metadata": {},
   "outputs": [
    {
     "name": "stdout",
     "output_type": "stream",
     "text": [
      "a\n",
      "d\n",
      "None\n"
     ]
    }
   ],
   "source": [
    "# Define a function 'first_non_repeating_character' that takes a string 'str1' as input.\n",
    "def first_non_repeating_character(str1):\n",
    "    # Create an empty list 'char_order' to store the order of characters encountered.\n",
    "    char_order = []\n",
    "    \n",
    "    # Create an empty dictionary 'ctr' to count the occurrences of each character.\n",
    "    ctr = {}\n",
    "\n",
    "    # Iterate through each character 'c' in the input string 'str1'.\n",
    "    for c in str1:\n",
    "        # Check if the character 'c' is already in the 'ctr' dictionary.\n",
    "        if c in ctr:\n",
    "            # If it is, increment the count for that character.\n",
    "            ctr[c] += 1\n",
    "        else:\n",
    "            # If it's not, add it to the 'ctr' dictionary and the 'char_order' list.\n",
    "            ctr[c] = 1\n",
    "            char_order.append(c)\n",
    "\n",
    "    # Iterate through the characters in 'char_order'.\n",
    "    for c in char_order:\n",
    "        # Check if the character 'c' has a count of 1 (non-repeating).\n",
    "        if ctr[c] == 1:\n",
    "            return c  # Return the first non-repeating character.\n",
    "\n",
    "    return None  # Return None if there are no non-repeating characters.\n",
    "\n",
    "# Call the 'first_non_repeating_character' function with different input strings and print the results.\n",
    "print(first_non_repeating_character('abcdef'))\n",
    "print(first_non_repeating_character('abcabcdef'))\n",
    "print(first_non_repeating_character('aabbcc')) \n"
   ]
  },
  {
   "cell_type": "markdown",
   "metadata": {},
   "source": [
    "27. Write a  Python program to find the first repeated character in a given string."
   ]
  },
  {
   "cell_type": "code",
   "execution_count": 38,
   "metadata": {},
   "outputs": [
    {
     "name": "stdout",
     "output_type": "stream",
     "text": [
      "a\n",
      "None\n"
     ]
    }
   ],
   "source": [
    "def first_repeated_char(str1):\n",
    "    \n",
    "    for index, c in enumerate(str1):\n",
    "\n",
    "        if str1[:index + 1].count(c) > 1:\n",
    "            return c  \n",
    "\n",
    "    return \"None\"  \n",
    "\n",
    "print(first_repeated_char(\"abcdabcd\"))\n",
    "print(first_repeated_char(\"abcd\")) \n"
   ]
  },
  {
   "cell_type": "markdown",
   "metadata": {},
   "source": [
    "28. Write a  Python program to find the second most repeated word in a given string."
   ]
  },
  {
   "cell_type": "code",
   "execution_count": 39,
   "metadata": {},
   "outputs": [
    {
     "name": "stdout",
     "output_type": "stream",
     "text": [
      "('of', 4)\n"
     ]
    }
   ],
   "source": [
    "def word_count(str):\n",
    "    \n",
    "    counts = dict()\n",
    "\n",
    "    words = str.split()\n",
    "\n",
    "    for word in words:\n",
    "        \n",
    "        if word in counts:\n",
    "            counts[word] += 1  \n",
    "        else:\n",
    "            counts[word] = 1 \n",
    "\n",
    "    counts_x = sorted(counts.items(), key=lambda kv: kv[1])\n",
    "\n",
    "    \n",
    "    return counts_x[-2]\n",
    "\n",
    "# Call the 'word_count' function with a long input string and print the result.\n",
    "print(word_count(\"Both of these issues are fixed by postponing the evaluation of annotations. Instead of compiling code which executes expressions in annotations at their definition time, the compiler stores the annotation in a string form equivalent to the AST of the expression in question. If needed, annotations can be resolved at runtime using typing.get_type_hints(). In the common case where this is not required, the annotations are cheaper to store (since short strings are interned by the interpreter) and make startup time faster.\")) \n"
   ]
  },
  {
   "cell_type": "markdown",
   "metadata": {},
   "source": [
    "29. Write a  Python program to find the maximum number of characters in a given string."
   ]
  },
  {
   "cell_type": "code",
   "execution_count": 40,
   "metadata": {},
   "outputs": [
    {
     "name": "stdout",
     "output_type": "stream",
     "text": [
      "t\n",
      "b\n"
     ]
    }
   ],
   "source": [
    "def get_max_occuring_char(str1):\n",
    "    \n",
    "    ASCII_SIZE = 256\n",
    "    \n",
    "    ctr = [0] * ASCII_SIZE\n",
    "    \n",
    "    max = -1\n",
    "    ch = ''\n",
    "    \n",
    "    for i in str1:\n",
    "        \n",
    "        ctr[ord(i)] += 1\n",
    "\n",
    "    for i in str1:\n",
    "        \n",
    "        if max < ctr[ord(i)]:\n",
    "            max = ctr[ord(i)]  \n",
    "            ch = i  \n",
    "\n",
    "    return ch  \n",
    "\n",
    "print(get_max_occuring_char(\"Python: Get file creation and modification date/times\"))\n",
    "print(get_max_occuring_char(\"abcdefghijkb\")) \n"
   ]
  },
  {
   "cell_type": "markdown",
   "metadata": {},
   "source": [
    "30. Write a  Python program to compute the sum of the digits in a given string."
   ]
  },
  {
   "cell_type": "code",
   "execution_count": 5,
   "metadata": {},
   "outputs": [
    {
     "name": "stdout",
     "output_type": "stream",
     "text": [
      "15\n",
      "10\n"
     ]
    }
   ],
   "source": [
    "def sum_digits_string(str1):\n",
    "    \n",
    "    sum_digit = 0\n",
    "\n",
    "    for char in str1:\n",
    "       \n",
    "        if char.isdigit():\n",
    "            \n",
    "            digit = int(char)\n",
    "\n",
    "            sum_digit += digit\n",
    "\n",
    "    return sum_digit\n",
    "\n",
    "result1 = sum_digits_string(\"123abcd45\")\n",
    "print(result1)  \n",
    "\n",
    "\n",
    "result2 = sum_digits_string(\"abcd1234\")\n",
    "print(result2)  \n"
   ]
  }
 ],
 "metadata": {
  "kernelspec": {
   "display_name": "dblearn",
   "language": "python",
   "name": "python3"
  },
  "language_info": {
   "codemirror_mode": {
    "name": "ipython",
    "version": 3
   },
   "file_extension": ".py",
   "mimetype": "text/x-python",
   "name": "python",
   "nbconvert_exporter": "python",
   "pygments_lexer": "ipython3",
   "version": "3.12.2"
  }
 },
 "nbformat": 4,
 "nbformat_minor": 2
}
